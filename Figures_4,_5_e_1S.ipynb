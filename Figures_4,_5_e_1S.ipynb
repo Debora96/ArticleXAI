{
  "cells": [
    {
      "cell_type": "markdown",
      "metadata": {
        "id": "view-in-github",
        "colab_type": "text"
      },
      "source": [
        "<a href=\"https://colab.research.google.com/github/Debora96/ArticleXAI/blob/main/Figures_4%2C_5_e_1S.ipynb\" target=\"_parent\"><img src=\"https://colab.research.google.com/assets/colab-badge.svg\" alt=\"Open In Colab\"/></a>"
      ]
    },
    {
      "cell_type": "code",
      "execution_count": 1,
      "metadata": {
        "colab": {
          "base_uri": "https://localhost:8080/",
          "height": 73
        },
        "id": "PwpVrdQguSe7",
        "outputId": "c2b7febf-ba60-4994-a520-c4a748fad2dd"
      },
      "outputs": [
        {
          "output_type": "display_data",
          "data": {
            "text/plain": [
              "<IPython.core.display.HTML object>"
            ],
            "text/html": [
              "\n",
              "     <input type=\"file\" id=\"files-8647edda-acef-4c7a-88be-94ec356f1a8b\" name=\"files[]\" multiple disabled\n",
              "        style=\"border:none\" />\n",
              "     <output id=\"result-8647edda-acef-4c7a-88be-94ec356f1a8b\">\n",
              "      Upload widget is only available when the cell has been executed in the\n",
              "      current browser session. Please rerun this cell to enable.\n",
              "      </output>\n",
              "      <script>// Copyright 2017 Google LLC\n",
              "//\n",
              "// Licensed under the Apache License, Version 2.0 (the \"License\");\n",
              "// you may not use this file except in compliance with the License.\n",
              "// You may obtain a copy of the License at\n",
              "//\n",
              "//      http://www.apache.org/licenses/LICENSE-2.0\n",
              "//\n",
              "// Unless required by applicable law or agreed to in writing, software\n",
              "// distributed under the License is distributed on an \"AS IS\" BASIS,\n",
              "// WITHOUT WARRANTIES OR CONDITIONS OF ANY KIND, either express or implied.\n",
              "// See the License for the specific language governing permissions and\n",
              "// limitations under the License.\n",
              "\n",
              "/**\n",
              " * @fileoverview Helpers for google.colab Python module.\n",
              " */\n",
              "(function(scope) {\n",
              "function span(text, styleAttributes = {}) {\n",
              "  const element = document.createElement('span');\n",
              "  element.textContent = text;\n",
              "  for (const key of Object.keys(styleAttributes)) {\n",
              "    element.style[key] = styleAttributes[key];\n",
              "  }\n",
              "  return element;\n",
              "}\n",
              "\n",
              "// Max number of bytes which will be uploaded at a time.\n",
              "const MAX_PAYLOAD_SIZE = 100 * 1024;\n",
              "\n",
              "function _uploadFiles(inputId, outputId) {\n",
              "  const steps = uploadFilesStep(inputId, outputId);\n",
              "  const outputElement = document.getElementById(outputId);\n",
              "  // Cache steps on the outputElement to make it available for the next call\n",
              "  // to uploadFilesContinue from Python.\n",
              "  outputElement.steps = steps;\n",
              "\n",
              "  return _uploadFilesContinue(outputId);\n",
              "}\n",
              "\n",
              "// This is roughly an async generator (not supported in the browser yet),\n",
              "// where there are multiple asynchronous steps and the Python side is going\n",
              "// to poll for completion of each step.\n",
              "// This uses a Promise to block the python side on completion of each step,\n",
              "// then passes the result of the previous step as the input to the next step.\n",
              "function _uploadFilesContinue(outputId) {\n",
              "  const outputElement = document.getElementById(outputId);\n",
              "  const steps = outputElement.steps;\n",
              "\n",
              "  const next = steps.next(outputElement.lastPromiseValue);\n",
              "  return Promise.resolve(next.value.promise).then((value) => {\n",
              "    // Cache the last promise value to make it available to the next\n",
              "    // step of the generator.\n",
              "    outputElement.lastPromiseValue = value;\n",
              "    return next.value.response;\n",
              "  });\n",
              "}\n",
              "\n",
              "/**\n",
              " * Generator function which is called between each async step of the upload\n",
              " * process.\n",
              " * @param {string} inputId Element ID of the input file picker element.\n",
              " * @param {string} outputId Element ID of the output display.\n",
              " * @return {!Iterable<!Object>} Iterable of next steps.\n",
              " */\n",
              "function* uploadFilesStep(inputId, outputId) {\n",
              "  const inputElement = document.getElementById(inputId);\n",
              "  inputElement.disabled = false;\n",
              "\n",
              "  const outputElement = document.getElementById(outputId);\n",
              "  outputElement.innerHTML = '';\n",
              "\n",
              "  const pickedPromise = new Promise((resolve) => {\n",
              "    inputElement.addEventListener('change', (e) => {\n",
              "      resolve(e.target.files);\n",
              "    });\n",
              "  });\n",
              "\n",
              "  const cancel = document.createElement('button');\n",
              "  inputElement.parentElement.appendChild(cancel);\n",
              "  cancel.textContent = 'Cancel upload';\n",
              "  const cancelPromise = new Promise((resolve) => {\n",
              "    cancel.onclick = () => {\n",
              "      resolve(null);\n",
              "    };\n",
              "  });\n",
              "\n",
              "  // Wait for the user to pick the files.\n",
              "  const files = yield {\n",
              "    promise: Promise.race([pickedPromise, cancelPromise]),\n",
              "    response: {\n",
              "      action: 'starting',\n",
              "    }\n",
              "  };\n",
              "\n",
              "  cancel.remove();\n",
              "\n",
              "  // Disable the input element since further picks are not allowed.\n",
              "  inputElement.disabled = true;\n",
              "\n",
              "  if (!files) {\n",
              "    return {\n",
              "      response: {\n",
              "        action: 'complete',\n",
              "      }\n",
              "    };\n",
              "  }\n",
              "\n",
              "  for (const file of files) {\n",
              "    const li = document.createElement('li');\n",
              "    li.append(span(file.name, {fontWeight: 'bold'}));\n",
              "    li.append(span(\n",
              "        `(${file.type || 'n/a'}) - ${file.size} bytes, ` +\n",
              "        `last modified: ${\n",
              "            file.lastModifiedDate ? file.lastModifiedDate.toLocaleDateString() :\n",
              "                                    'n/a'} - `));\n",
              "    const percent = span('0% done');\n",
              "    li.appendChild(percent);\n",
              "\n",
              "    outputElement.appendChild(li);\n",
              "\n",
              "    const fileDataPromise = new Promise((resolve) => {\n",
              "      const reader = new FileReader();\n",
              "      reader.onload = (e) => {\n",
              "        resolve(e.target.result);\n",
              "      };\n",
              "      reader.readAsArrayBuffer(file);\n",
              "    });\n",
              "    // Wait for the data to be ready.\n",
              "    let fileData = yield {\n",
              "      promise: fileDataPromise,\n",
              "      response: {\n",
              "        action: 'continue',\n",
              "      }\n",
              "    };\n",
              "\n",
              "    // Use a chunked sending to avoid message size limits. See b/62115660.\n",
              "    let position = 0;\n",
              "    do {\n",
              "      const length = Math.min(fileData.byteLength - position, MAX_PAYLOAD_SIZE);\n",
              "      const chunk = new Uint8Array(fileData, position, length);\n",
              "      position += length;\n",
              "\n",
              "      const base64 = btoa(String.fromCharCode.apply(null, chunk));\n",
              "      yield {\n",
              "        response: {\n",
              "          action: 'append',\n",
              "          file: file.name,\n",
              "          data: base64,\n",
              "        },\n",
              "      };\n",
              "\n",
              "      let percentDone = fileData.byteLength === 0 ?\n",
              "          100 :\n",
              "          Math.round((position / fileData.byteLength) * 100);\n",
              "      percent.textContent = `${percentDone}% done`;\n",
              "\n",
              "    } while (position < fileData.byteLength);\n",
              "  }\n",
              "\n",
              "  // All done.\n",
              "  yield {\n",
              "    response: {\n",
              "      action: 'complete',\n",
              "    }\n",
              "  };\n",
              "}\n",
              "\n",
              "scope.google = scope.google || {};\n",
              "scope.google.colab = scope.google.colab || {};\n",
              "scope.google.colab._files = {\n",
              "  _uploadFiles,\n",
              "  _uploadFilesContinue,\n",
              "};\n",
              "})(self);\n",
              "</script> "
            ]
          },
          "metadata": {}
        },
        {
          "output_type": "stream",
          "name": "stdout",
          "text": [
            "Saving LUSC_ALL.csv to LUSC_ALL.csv\n"
          ]
        }
      ],
      "source": [
        "# load the dataset\n",
        "from google.colab import files\n",
        "\n",
        "uploaded = files.upload()"
      ]
    },
    {
      "cell_type": "code",
      "execution_count": 2,
      "metadata": {
        "colab": {
          "base_uri": "https://localhost:8080/"
        },
        "id": "17nmYC1OuWU6",
        "outputId": "8ef6369a-abb6-43c0-9cf6-c238bf3d6e94"
      },
      "outputs": [
        {
          "output_type": "stream",
          "name": "stdout",
          "text": [
            "    neoplasm metastasis ajcc.stage  obs.time  status   age  gender  prior.dx  \\\n",
            "0         N1         M0        T2b       455       1  62.0       1         0   \n",
            "1         N0         M0        T1b       247       0  56.0       1         0   \n",
            "2         N0         MX        T1b       378       0  74.0       1         0   \n",
            "3         N0         M0        T2b       544       1  76.0       1         1   \n",
            "4         N0         M0        T2a        55       0  68.0       1         0   \n",
            "..       ...        ...        ...       ...     ...   ...     ...       ...   \n",
            "488       N1        NaN         T4        12       1  65.0       1         0   \n",
            "489       NX         M0        T1a       910       0  60.0       0         0   \n",
            "490       N1         MX        T2a        82       0  45.0       0         0   \n",
            "491       N1         M1         T4       716       1  73.0       1         0   \n",
            "492       N1         M0         T2       358       1  56.0       1         0   \n",
            "\n",
            "          GCLC     WNT16  ...  LINC01667  CH507.42P11.6  KCNIP4.IT1  \\\n",
            "0    13.535154  5.857981  ...   2.321928       2.000000    1.584963   \n",
            "1    12.279320  2.321928  ...   4.459432       2.321928    0.000000   \n",
            "2    12.867279  5.954196  ...   5.129283       2.321928    1.000000   \n",
            "3    10.674192  6.375039  ...   0.000000       0.000000    1.000000   \n",
            "4    10.673309  6.087463  ...   0.000000       4.169925    1.000000   \n",
            "..         ...       ...  ...        ...            ...         ...   \n",
            "488  14.167889  4.459432  ...   0.000000       0.000000    1.000000   \n",
            "489  10.183635  3.000000  ...   0.000000       0.000000    0.000000   \n",
            "490  12.440610  4.321928  ...   0.000000       1.000000    0.000000   \n",
            "491  12.333155  5.832890  ...   1.584963       3.169925    0.000000   \n",
            "492  12.771283  5.930737  ...   2.807355       3.321928    0.000000   \n",
            "\n",
            "     SH3PXD2A.AS1     PCAT5  LINC01202      ELDR   SCHLAP1  LINC00891  PAUPAR  \n",
            "0        8.764872  0.000000   3.000000  0.000000  3.700440   2.807355     1.0  \n",
            "1        3.169925  1.000000   4.000000  0.000000  0.000000   2.584963     0.0  \n",
            "2        7.930737  1.000000   1.000000  3.000000  3.807355   4.169925     0.0  \n",
            "3        7.383704  0.000000   1.584963  1.000000  5.169925   2.807355     0.0  \n",
            "4        6.672425  0.000000   3.459432  0.000000  0.000000   3.700440     0.0  \n",
            "..            ...       ...        ...       ...       ...        ...     ...  \n",
            "488      8.463524  0.000000   0.000000  6.169925  0.000000   0.000000     1.0  \n",
            "489      3.459432  0.000000   0.000000  3.321928  0.000000   4.321928     0.0  \n",
            "490      8.611025  0.000000   0.000000  2.000000  0.000000   3.000000     0.0  \n",
            "491      7.584963  1.000000   1.000000  2.000000  5.129283   1.000000     0.0  \n",
            "492      6.954196  1.584963   3.700440  2.000000  0.000000   1.000000     0.0  \n",
            "\n",
            "[493 rows x 2581 columns]\n"
          ]
        }
      ],
      "source": [
        "import pandas as pd\n",
        "import io\n",
        "\n",
        "df = pd.read_csv(io.BytesIO(uploaded['LUSC_ALL.csv']))\n",
        "print(df)"
      ]
    },
    {
      "cell_type": "code",
      "execution_count": 3,
      "metadata": {
        "colab": {
          "base_uri": "https://localhost:8080/"
        },
        "id": "AlJm6UoXuZ7B",
        "outputId": "579eed59-a4dd-4d26-a182-8e1826055050"
      },
      "outputs": [
        {
          "output_type": "stream",
          "name": "stdout",
          "text": [
            "['T2b' 'T1b' 'T2a' 'T2' 'T1' 'T1a' 'T3' 'T4']\n"
          ]
        }
      ],
      "source": [
        "rotulos_unicos = df['ajcc.stage'].unique()\n",
        "\n",
        "# Imprimindo os rótulos únicos\n",
        "print(rotulos_unicos)"
      ]
    },
    {
      "cell_type": "code",
      "execution_count": 4,
      "metadata": {
        "colab": {
          "base_uri": "https://localhost:8080/"
        },
        "id": "N-VofZ3lucF1",
        "outputId": "330ffcd0-3912-4a8a-bf17-7506b77af4dc"
      },
      "outputs": [
        {
          "output_type": "stream",
          "name": "stderr",
          "text": [
            "<ipython-input-4-de37a9439484>:4: FutureWarning: Downcasting behavior in `replace` is deprecated and will be removed in a future version. To retain the old behavior, explicitly call `result.infer_objects(copy=False)`. To opt-in to the future behavior, set `pd.set_option('future.no_silent_downcasting', True)`\n",
            "  df['ajcc.stage'] = df['ajcc.stage'].replace(mapeamento)\n"
          ]
        }
      ],
      "source": [
        "mapeamento = {'T1': 0, 'T1a': 0,'T1b':0,'T2':0,'T2a':0,'T2b':0,'T3':1,'T4':1}\n",
        "\n",
        "# Substituir os rótulos 'T1' e 'T1a' pelo rótulo '1'\n",
        "df['ajcc.stage'] = df['ajcc.stage'].replace(mapeamento)"
      ]
    },
    {
      "cell_type": "code",
      "execution_count": 5,
      "metadata": {
        "colab": {
          "base_uri": "https://localhost:8080/",
          "height": 256
        },
        "id": "Yn5tt5squeM6",
        "outputId": "cc08ae03-ea28-47ae-c787-2b1d5096871c"
      },
      "outputs": [
        {
          "output_type": "execute_result",
          "data": {
            "text/plain": [
              "  neoplasm metastasis  ajcc.stage  obs.time  status   age  gender  prior.dx  \\\n",
              "0       N1         M0           0       455       1  62.0       1         0   \n",
              "1       N0         M0           0       247       0  56.0       1         0   \n",
              "2       N0         MX           0       378       0  74.0       1         0   \n",
              "3       N0         M0           0       544       1  76.0       1         1   \n",
              "4       N0         M0           0        55       0  68.0       1         0   \n",
              "\n",
              "        GCLC     WNT16  ...  LINC01667  CH507.42P11.6  KCNIP4.IT1  \\\n",
              "0  13.535154  5.857981  ...   2.321928       2.000000    1.584963   \n",
              "1  12.279320  2.321928  ...   4.459432       2.321928    0.000000   \n",
              "2  12.867279  5.954196  ...   5.129283       2.321928    1.000000   \n",
              "3  10.674192  6.375039  ...   0.000000       0.000000    1.000000   \n",
              "4  10.673309  6.087463  ...   0.000000       4.169925    1.000000   \n",
              "\n",
              "   SH3PXD2A.AS1  PCAT5  LINC01202  ELDR   SCHLAP1  LINC00891  PAUPAR  \n",
              "0      8.764872    0.0   3.000000   0.0  3.700440   2.807355     1.0  \n",
              "1      3.169925    1.0   4.000000   0.0  0.000000   2.584963     0.0  \n",
              "2      7.930737    1.0   1.000000   3.0  3.807355   4.169925     0.0  \n",
              "3      7.383704    0.0   1.584963   1.0  5.169925   2.807355     0.0  \n",
              "4      6.672425    0.0   3.459432   0.0  0.000000   3.700440     0.0  \n",
              "\n",
              "[5 rows x 2581 columns]"
            ],
            "text/html": [
              "\n",
              "  <div id=\"df-454395bc-fc82-49da-babf-5bafb0403e78\" class=\"colab-df-container\">\n",
              "    <div>\n",
              "<style scoped>\n",
              "    .dataframe tbody tr th:only-of-type {\n",
              "        vertical-align: middle;\n",
              "    }\n",
              "\n",
              "    .dataframe tbody tr th {\n",
              "        vertical-align: top;\n",
              "    }\n",
              "\n",
              "    .dataframe thead th {\n",
              "        text-align: right;\n",
              "    }\n",
              "</style>\n",
              "<table border=\"1\" class=\"dataframe\">\n",
              "  <thead>\n",
              "    <tr style=\"text-align: right;\">\n",
              "      <th></th>\n",
              "      <th>neoplasm</th>\n",
              "      <th>metastasis</th>\n",
              "      <th>ajcc.stage</th>\n",
              "      <th>obs.time</th>\n",
              "      <th>status</th>\n",
              "      <th>age</th>\n",
              "      <th>gender</th>\n",
              "      <th>prior.dx</th>\n",
              "      <th>GCLC</th>\n",
              "      <th>WNT16</th>\n",
              "      <th>...</th>\n",
              "      <th>LINC01667</th>\n",
              "      <th>CH507.42P11.6</th>\n",
              "      <th>KCNIP4.IT1</th>\n",
              "      <th>SH3PXD2A.AS1</th>\n",
              "      <th>PCAT5</th>\n",
              "      <th>LINC01202</th>\n",
              "      <th>ELDR</th>\n",
              "      <th>SCHLAP1</th>\n",
              "      <th>LINC00891</th>\n",
              "      <th>PAUPAR</th>\n",
              "    </tr>\n",
              "  </thead>\n",
              "  <tbody>\n",
              "    <tr>\n",
              "      <th>0</th>\n",
              "      <td>N1</td>\n",
              "      <td>M0</td>\n",
              "      <td>0</td>\n",
              "      <td>455</td>\n",
              "      <td>1</td>\n",
              "      <td>62.0</td>\n",
              "      <td>1</td>\n",
              "      <td>0</td>\n",
              "      <td>13.535154</td>\n",
              "      <td>5.857981</td>\n",
              "      <td>...</td>\n",
              "      <td>2.321928</td>\n",
              "      <td>2.000000</td>\n",
              "      <td>1.584963</td>\n",
              "      <td>8.764872</td>\n",
              "      <td>0.0</td>\n",
              "      <td>3.000000</td>\n",
              "      <td>0.0</td>\n",
              "      <td>3.700440</td>\n",
              "      <td>2.807355</td>\n",
              "      <td>1.0</td>\n",
              "    </tr>\n",
              "    <tr>\n",
              "      <th>1</th>\n",
              "      <td>N0</td>\n",
              "      <td>M0</td>\n",
              "      <td>0</td>\n",
              "      <td>247</td>\n",
              "      <td>0</td>\n",
              "      <td>56.0</td>\n",
              "      <td>1</td>\n",
              "      <td>0</td>\n",
              "      <td>12.279320</td>\n",
              "      <td>2.321928</td>\n",
              "      <td>...</td>\n",
              "      <td>4.459432</td>\n",
              "      <td>2.321928</td>\n",
              "      <td>0.000000</td>\n",
              "      <td>3.169925</td>\n",
              "      <td>1.0</td>\n",
              "      <td>4.000000</td>\n",
              "      <td>0.0</td>\n",
              "      <td>0.000000</td>\n",
              "      <td>2.584963</td>\n",
              "      <td>0.0</td>\n",
              "    </tr>\n",
              "    <tr>\n",
              "      <th>2</th>\n",
              "      <td>N0</td>\n",
              "      <td>MX</td>\n",
              "      <td>0</td>\n",
              "      <td>378</td>\n",
              "      <td>0</td>\n",
              "      <td>74.0</td>\n",
              "      <td>1</td>\n",
              "      <td>0</td>\n",
              "      <td>12.867279</td>\n",
              "      <td>5.954196</td>\n",
              "      <td>...</td>\n",
              "      <td>5.129283</td>\n",
              "      <td>2.321928</td>\n",
              "      <td>1.000000</td>\n",
              "      <td>7.930737</td>\n",
              "      <td>1.0</td>\n",
              "      <td>1.000000</td>\n",
              "      <td>3.0</td>\n",
              "      <td>3.807355</td>\n",
              "      <td>4.169925</td>\n",
              "      <td>0.0</td>\n",
              "    </tr>\n",
              "    <tr>\n",
              "      <th>3</th>\n",
              "      <td>N0</td>\n",
              "      <td>M0</td>\n",
              "      <td>0</td>\n",
              "      <td>544</td>\n",
              "      <td>1</td>\n",
              "      <td>76.0</td>\n",
              "      <td>1</td>\n",
              "      <td>1</td>\n",
              "      <td>10.674192</td>\n",
              "      <td>6.375039</td>\n",
              "      <td>...</td>\n",
              "      <td>0.000000</td>\n",
              "      <td>0.000000</td>\n",
              "      <td>1.000000</td>\n",
              "      <td>7.383704</td>\n",
              "      <td>0.0</td>\n",
              "      <td>1.584963</td>\n",
              "      <td>1.0</td>\n",
              "      <td>5.169925</td>\n",
              "      <td>2.807355</td>\n",
              "      <td>0.0</td>\n",
              "    </tr>\n",
              "    <tr>\n",
              "      <th>4</th>\n",
              "      <td>N0</td>\n",
              "      <td>M0</td>\n",
              "      <td>0</td>\n",
              "      <td>55</td>\n",
              "      <td>0</td>\n",
              "      <td>68.0</td>\n",
              "      <td>1</td>\n",
              "      <td>0</td>\n",
              "      <td>10.673309</td>\n",
              "      <td>6.087463</td>\n",
              "      <td>...</td>\n",
              "      <td>0.000000</td>\n",
              "      <td>4.169925</td>\n",
              "      <td>1.000000</td>\n",
              "      <td>6.672425</td>\n",
              "      <td>0.0</td>\n",
              "      <td>3.459432</td>\n",
              "      <td>0.0</td>\n",
              "      <td>0.000000</td>\n",
              "      <td>3.700440</td>\n",
              "      <td>0.0</td>\n",
              "    </tr>\n",
              "  </tbody>\n",
              "</table>\n",
              "<p>5 rows × 2581 columns</p>\n",
              "</div>\n",
              "    <div class=\"colab-df-buttons\">\n",
              "\n",
              "  <div class=\"colab-df-container\">\n",
              "    <button class=\"colab-df-convert\" onclick=\"convertToInteractive('df-454395bc-fc82-49da-babf-5bafb0403e78')\"\n",
              "            title=\"Convert this dataframe to an interactive table.\"\n",
              "            style=\"display:none;\">\n",
              "\n",
              "  <svg xmlns=\"http://www.w3.org/2000/svg\" height=\"24px\" viewBox=\"0 -960 960 960\">\n",
              "    <path d=\"M120-120v-720h720v720H120Zm60-500h600v-160H180v160Zm220 220h160v-160H400v160Zm0 220h160v-160H400v160ZM180-400h160v-160H180v160Zm440 0h160v-160H620v160ZM180-180h160v-160H180v160Zm440 0h160v-160H620v160Z\"/>\n",
              "  </svg>\n",
              "    </button>\n",
              "\n",
              "  <style>\n",
              "    .colab-df-container {\n",
              "      display:flex;\n",
              "      gap: 12px;\n",
              "    }\n",
              "\n",
              "    .colab-df-convert {\n",
              "      background-color: #E8F0FE;\n",
              "      border: none;\n",
              "      border-radius: 50%;\n",
              "      cursor: pointer;\n",
              "      display: none;\n",
              "      fill: #1967D2;\n",
              "      height: 32px;\n",
              "      padding: 0 0 0 0;\n",
              "      width: 32px;\n",
              "    }\n",
              "\n",
              "    .colab-df-convert:hover {\n",
              "      background-color: #E2EBFA;\n",
              "      box-shadow: 0px 1px 2px rgba(60, 64, 67, 0.3), 0px 1px 3px 1px rgba(60, 64, 67, 0.15);\n",
              "      fill: #174EA6;\n",
              "    }\n",
              "\n",
              "    .colab-df-buttons div {\n",
              "      margin-bottom: 4px;\n",
              "    }\n",
              "\n",
              "    [theme=dark] .colab-df-convert {\n",
              "      background-color: #3B4455;\n",
              "      fill: #D2E3FC;\n",
              "    }\n",
              "\n",
              "    [theme=dark] .colab-df-convert:hover {\n",
              "      background-color: #434B5C;\n",
              "      box-shadow: 0px 1px 3px 1px rgba(0, 0, 0, 0.15);\n",
              "      filter: drop-shadow(0px 1px 2px rgba(0, 0, 0, 0.3));\n",
              "      fill: #FFFFFF;\n",
              "    }\n",
              "  </style>\n",
              "\n",
              "    <script>\n",
              "      const buttonEl =\n",
              "        document.querySelector('#df-454395bc-fc82-49da-babf-5bafb0403e78 button.colab-df-convert');\n",
              "      buttonEl.style.display =\n",
              "        google.colab.kernel.accessAllowed ? 'block' : 'none';\n",
              "\n",
              "      async function convertToInteractive(key) {\n",
              "        const element = document.querySelector('#df-454395bc-fc82-49da-babf-5bafb0403e78');\n",
              "        const dataTable =\n",
              "          await google.colab.kernel.invokeFunction('convertToInteractive',\n",
              "                                                    [key], {});\n",
              "        if (!dataTable) return;\n",
              "\n",
              "        const docLinkHtml = 'Like what you see? Visit the ' +\n",
              "          '<a target=\"_blank\" href=https://colab.research.google.com/notebooks/data_table.ipynb>data table notebook</a>'\n",
              "          + ' to learn more about interactive tables.';\n",
              "        element.innerHTML = '';\n",
              "        dataTable['output_type'] = 'display_data';\n",
              "        await google.colab.output.renderOutput(dataTable, element);\n",
              "        const docLink = document.createElement('div');\n",
              "        docLink.innerHTML = docLinkHtml;\n",
              "        element.appendChild(docLink);\n",
              "      }\n",
              "    </script>\n",
              "  </div>\n",
              "\n",
              "\n",
              "<div id=\"df-3b370668-473c-4d2a-a261-ae1945736a0e\">\n",
              "  <button class=\"colab-df-quickchart\" onclick=\"quickchart('df-3b370668-473c-4d2a-a261-ae1945736a0e')\"\n",
              "            title=\"Suggest charts\"\n",
              "            style=\"display:none;\">\n",
              "\n",
              "<svg xmlns=\"http://www.w3.org/2000/svg\" height=\"24px\"viewBox=\"0 0 24 24\"\n",
              "     width=\"24px\">\n",
              "    <g>\n",
              "        <path d=\"M19 3H5c-1.1 0-2 .9-2 2v14c0 1.1.9 2 2 2h14c1.1 0 2-.9 2-2V5c0-1.1-.9-2-2-2zM9 17H7v-7h2v7zm4 0h-2V7h2v10zm4 0h-2v-4h2v4z\"/>\n",
              "    </g>\n",
              "</svg>\n",
              "  </button>\n",
              "\n",
              "<style>\n",
              "  .colab-df-quickchart {\n",
              "      --bg-color: #E8F0FE;\n",
              "      --fill-color: #1967D2;\n",
              "      --hover-bg-color: #E2EBFA;\n",
              "      --hover-fill-color: #174EA6;\n",
              "      --disabled-fill-color: #AAA;\n",
              "      --disabled-bg-color: #DDD;\n",
              "  }\n",
              "\n",
              "  [theme=dark] .colab-df-quickchart {\n",
              "      --bg-color: #3B4455;\n",
              "      --fill-color: #D2E3FC;\n",
              "      --hover-bg-color: #434B5C;\n",
              "      --hover-fill-color: #FFFFFF;\n",
              "      --disabled-bg-color: #3B4455;\n",
              "      --disabled-fill-color: #666;\n",
              "  }\n",
              "\n",
              "  .colab-df-quickchart {\n",
              "    background-color: var(--bg-color);\n",
              "    border: none;\n",
              "    border-radius: 50%;\n",
              "    cursor: pointer;\n",
              "    display: none;\n",
              "    fill: var(--fill-color);\n",
              "    height: 32px;\n",
              "    padding: 0;\n",
              "    width: 32px;\n",
              "  }\n",
              "\n",
              "  .colab-df-quickchart:hover {\n",
              "    background-color: var(--hover-bg-color);\n",
              "    box-shadow: 0 1px 2px rgba(60, 64, 67, 0.3), 0 1px 3px 1px rgba(60, 64, 67, 0.15);\n",
              "    fill: var(--button-hover-fill-color);\n",
              "  }\n",
              "\n",
              "  .colab-df-quickchart-complete:disabled,\n",
              "  .colab-df-quickchart-complete:disabled:hover {\n",
              "    background-color: var(--disabled-bg-color);\n",
              "    fill: var(--disabled-fill-color);\n",
              "    box-shadow: none;\n",
              "  }\n",
              "\n",
              "  .colab-df-spinner {\n",
              "    border: 2px solid var(--fill-color);\n",
              "    border-color: transparent;\n",
              "    border-bottom-color: var(--fill-color);\n",
              "    animation:\n",
              "      spin 1s steps(1) infinite;\n",
              "  }\n",
              "\n",
              "  @keyframes spin {\n",
              "    0% {\n",
              "      border-color: transparent;\n",
              "      border-bottom-color: var(--fill-color);\n",
              "      border-left-color: var(--fill-color);\n",
              "    }\n",
              "    20% {\n",
              "      border-color: transparent;\n",
              "      border-left-color: var(--fill-color);\n",
              "      border-top-color: var(--fill-color);\n",
              "    }\n",
              "    30% {\n",
              "      border-color: transparent;\n",
              "      border-left-color: var(--fill-color);\n",
              "      border-top-color: var(--fill-color);\n",
              "      border-right-color: var(--fill-color);\n",
              "    }\n",
              "    40% {\n",
              "      border-color: transparent;\n",
              "      border-right-color: var(--fill-color);\n",
              "      border-top-color: var(--fill-color);\n",
              "    }\n",
              "    60% {\n",
              "      border-color: transparent;\n",
              "      border-right-color: var(--fill-color);\n",
              "    }\n",
              "    80% {\n",
              "      border-color: transparent;\n",
              "      border-right-color: var(--fill-color);\n",
              "      border-bottom-color: var(--fill-color);\n",
              "    }\n",
              "    90% {\n",
              "      border-color: transparent;\n",
              "      border-bottom-color: var(--fill-color);\n",
              "    }\n",
              "  }\n",
              "</style>\n",
              "\n",
              "  <script>\n",
              "    async function quickchart(key) {\n",
              "      const quickchartButtonEl =\n",
              "        document.querySelector('#' + key + ' button');\n",
              "      quickchartButtonEl.disabled = true;  // To prevent multiple clicks.\n",
              "      quickchartButtonEl.classList.add('colab-df-spinner');\n",
              "      try {\n",
              "        const charts = await google.colab.kernel.invokeFunction(\n",
              "            'suggestCharts', [key], {});\n",
              "      } catch (error) {\n",
              "        console.error('Error during call to suggestCharts:', error);\n",
              "      }\n",
              "      quickchartButtonEl.classList.remove('colab-df-spinner');\n",
              "      quickchartButtonEl.classList.add('colab-df-quickchart-complete');\n",
              "    }\n",
              "    (() => {\n",
              "      let quickchartButtonEl =\n",
              "        document.querySelector('#df-3b370668-473c-4d2a-a261-ae1945736a0e button');\n",
              "      quickchartButtonEl.style.display =\n",
              "        google.colab.kernel.accessAllowed ? 'block' : 'none';\n",
              "    })();\n",
              "  </script>\n",
              "</div>\n",
              "\n",
              "    </div>\n",
              "  </div>\n"
            ],
            "application/vnd.google.colaboratory.intrinsic+json": {
              "type": "dataframe",
              "variable_name": "df"
            }
          },
          "metadata": {},
          "execution_count": 5
        }
      ],
      "source": [
        "df.head()"
      ]
    },
    {
      "cell_type": "code",
      "execution_count": 6,
      "metadata": {
        "colab": {
          "base_uri": "https://localhost:8080/"
        },
        "id": "E-mI1SDkufuq",
        "outputId": "5a13d7c0-6f38-4778-d104-144b20286255"
      },
      "outputs": [
        {
          "output_type": "stream",
          "name": "stdout",
          "text": [
            "ajcc.stage\n",
            "0    400\n",
            "1     93\n",
            "Name: count, dtype: int64\n"
          ]
        }
      ],
      "source": [
        "contagem_por_classe = df['ajcc.stage'].value_counts()\n",
        "\n",
        "# Exibir a contagem por classe\n",
        "print(contagem_por_classe)"
      ]
    },
    {
      "cell_type": "code",
      "execution_count": 7,
      "metadata": {
        "id": "MkNeaWTU5yT2"
      },
      "outputs": [],
      "source": [
        "Genes_all = [\"ALDH3B1\",\"ALG1L\",\"APC\",\"C7\",\"CAV1\",\"CENPI\",\"CST1\",\"EPHA6\",\"FAM83A\",\"FOSB\",\"GABRP\",\"GJB6\",\"GKN2\",\"GPRC5A\",\"GTSF1\",\"H2AC14\",\"IRS1\",\"KREMEN2\",\"LARGE2\",\"LINC00887\",\"LINC01910\",\"LINC02605\",\"LY6D\",\"MAGEA10\",\"MAGI2\",\"MMP20\",\"PCAT7\",\"PITX2\",\"TLX3\",\"TNS4\",\"WSCD2\",\n",
        "\n",
        "\"LINC00640\",\"KRT17P1\",\"GSDMC\",\"EIF4G1\",\"FOXG1\",\"H2BC9\",\"HMGB3P6\",\"CSTL1\",\"ATF7IP\",\"RNF222\",\"EGF\",\"GCGR\",\"KRT75\",\"TMPRSS11D\",\"SBSN\",\"VIL1\",\"BMP7\",\"TFAP2A\",\"PLXNB3\",\"CDT1\",\"COL9A3\",\"TMPRSS4\",\"LINC02830\",\"DSEL\",\"NLGN1\",\"GNG4\",\"SLC9A2\",\n",
        "\n",
        "\"IL6\",\"PPFIA4\",\"CACNA1I\",\"CDKN2A\",\"PLAAT1\",\"C14orf39\",\"LINC01549\",\"ONECUT3\",\"PRSS3\",\"IMPDH1P8\",\"KIAA0895LP1\",\"RCOR2\",\"FAM72C\",\"RAD51AP2\",\"SMC1B\",\"FTCD\",\"PPP1R27\",\"GINS2\",\"WNK2\",\"COL4A3\",\"ESCO2\",\"SH2D5\",\"AQP1\",\"MYOSLID\",\"PDE10A\",\"DUXAP9\",\"NLRP10\",\"VCAN\",\"NUS1P2\"]"
      ]
    },
    {
      "cell_type": "code",
      "execution_count": 8,
      "metadata": {
        "colab": {
          "base_uri": "https://localhost:8080/"
        },
        "id": "hUk7FVIo6HvO",
        "outputId": "336c51cd-1214-4ae2-9107-e7b50d3f9fca"
      },
      "outputs": [
        {
          "output_type": "stream",
          "name": "stdout",
          "text": [
            "       ALDH3B1      ALG1L        APC         C7       CAV1     CENPI  \\\n",
            "0     8.971544   9.209453  10.596190   8.851749  11.576957  9.231221   \n",
            "1     9.807355   9.219169   7.584963   5.807355   9.807355  7.965784   \n",
            "2    10.500842   8.703904  10.844706  11.872675  12.721313  8.867279   \n",
            "3     9.556506   8.558421   9.008429  14.112847  13.756244  7.912889   \n",
            "4     9.375039   9.566054  10.011227  11.294046  13.635718  6.108524   \n",
            "..         ...        ...        ...        ...        ...       ...   \n",
            "488   7.982994  10.807355  10.997885   9.355351  10.793603  8.870365   \n",
            "489  10.556506   3.584963   9.813781  10.821774  12.286847  6.539159   \n",
            "490   9.388017  10.019591  10.882643  11.859146  13.428491  9.368506   \n",
            "491   9.219169  10.767357   9.957102   9.400879  14.595316  8.734710   \n",
            "492   9.211888  11.801304   9.696968  10.278449  10.388017  8.447083   \n",
            "\n",
            "          CST1     EPHA6     FAM83A       FOSB  ...    COL4A3      ESCO2  \\\n",
            "0     9.002815  3.000000  11.292897   8.413628  ...  6.942515   9.407268   \n",
            "1     8.864186  7.971544   3.321928   7.348728  ...  5.700440   9.677720   \n",
            "2    11.970106  2.321928  14.890074  10.308339  ...  5.857981   8.682995   \n",
            "3     3.459432  0.000000  14.003079  10.406205  ...  7.994353   7.643856   \n",
            "4    10.188589  1.000000  12.412570   9.092757  ...  7.442943   5.087463   \n",
            "..         ...       ...        ...        ...  ...       ...        ...   \n",
            "488   8.066089  4.247928   7.087463  10.314017  ...  5.672425   9.712527   \n",
            "489   8.438792  0.000000  11.128639  13.586605  ...  9.890264   6.409391   \n",
            "490   9.640245  3.000000  11.292322   9.791163  ...  6.629357  10.082149   \n",
            "491  11.648358  5.977280  13.380461  12.200899  ...  5.392317  10.304922   \n",
            "492   9.247928  3.807355  12.201511  11.009829  ...  7.087463   9.049849   \n",
            "\n",
            "        SH2D5       AQP1   MYOSLID     PDE10A    DUXAP9    NLRP10       VCAN  \\\n",
            "0    5.643856   9.948367  6.658211   8.816984  6.209453  3.000000  14.547919   \n",
            "1    4.169925   9.499846  3.000000   5.491853  3.459432  0.000000  12.469133   \n",
            "2    6.741467  12.111462  8.044394   8.271463  5.554589  5.169925  15.617554   \n",
            "3    7.499846  14.501526  7.894818   7.721099  5.247928  4.321928  13.602699   \n",
            "4    4.754888  12.262095  6.965784   5.209453  4.000000  2.807355  13.405141   \n",
            "..        ...        ...       ...        ...       ...       ...        ...   \n",
            "488  6.614710  12.169299  7.459432   5.321928  5.087463  5.169925  12.455584   \n",
            "489  3.169925  18.434050  3.807355   6.129283  3.000000  1.000000  12.651052   \n",
            "490  5.614710  13.292034  5.832890  10.412570  7.459432  1.000000  15.823939   \n",
            "491  6.754888  12.205488  7.033423   7.857981  6.977280  1.584963  13.112277   \n",
            "492  7.426265   9.797662  5.459432   7.033423  6.954196  0.000000  11.781770   \n",
            "\n",
            "       NUS1P2  \n",
            "0    5.727920  \n",
            "1    0.000000  \n",
            "2    4.392317  \n",
            "3    2.321928  \n",
            "4    4.321928  \n",
            "..        ...  \n",
            "488  5.614710  \n",
            "489  0.000000  \n",
            "490  2.807355  \n",
            "491  4.169925  \n",
            "492  3.321928  \n",
            "\n",
            "[493 rows x 87 columns]\n"
          ]
        }
      ],
      "source": [
        "df_all = df[Genes_all]\n",
        "print(df_all)"
      ]
    },
    {
      "cell_type": "code",
      "execution_count": 9,
      "metadata": {
        "id": "2emiYMjY6xEB"
      },
      "outputs": [],
      "source": [
        "data = pd.DataFrame(df)\n",
        "\n",
        "\n",
        "#Preparing input and output variables\n",
        "X = df_all\n",
        "y = data[data.columns[2:3]]"
      ]
    },
    {
      "cell_type": "code",
      "execution_count": 10,
      "metadata": {
        "colab": {
          "base_uri": "https://localhost:8080/"
        },
        "id": "YMITYM4U66hi",
        "outputId": "b7932f78-8ef8-4766-903d-eab3836ee832"
      },
      "outputs": [
        {
          "output_type": "stream",
          "name": "stdout",
          "text": [
            "     ajcc.stage\n",
            "0             0\n",
            "1             0\n",
            "2             0\n",
            "3             0\n",
            "4             0\n",
            "..          ...\n",
            "488           1\n",
            "489           0\n",
            "490           0\n",
            "491           1\n",
            "492           0\n",
            "\n",
            "[493 rows x 1 columns]\n"
          ]
        }
      ],
      "source": [
        "print(y)"
      ]
    },
    {
      "cell_type": "markdown",
      "metadata": {
        "id": "5z_6_ebnaVSu"
      },
      "source": [
        "**SOBREVIDA DOS GRUPOS**"
      ]
    },
    {
      "cell_type": "code",
      "execution_count": 11,
      "metadata": {
        "id": "9i4zrj0axQCZ"
      },
      "outputs": [],
      "source": [
        "import pandas as pd\n",
        "\n",
        "# Renomear múltiplas colunas\n",
        "df = df.rename(columns={'ajcc.stage': 'stage', 'obs.time': 'time'})"
      ]
    },
    {
      "cell_type": "code",
      "execution_count": 12,
      "metadata": {
        "colab": {
          "base_uri": "https://localhost:8080/"
        },
        "id": "UHIZ9fNov7-m",
        "outputId": "474e3772-ca52-4efb-aed7-72777a213f0d"
      },
      "outputs": [
        {
          "output_type": "stream",
          "name": "stdout",
          "text": [
            "Collecting lifelines\n",
            "  Downloading lifelines-0.30.0-py3-none-any.whl.metadata (3.2 kB)\n",
            "Requirement already satisfied: numpy>=1.14.0 in /usr/local/lib/python3.11/dist-packages (from lifelines) (1.26.4)\n",
            "Requirement already satisfied: scipy>=1.7.0 in /usr/local/lib/python3.11/dist-packages (from lifelines) (1.13.1)\n",
            "Requirement already satisfied: pandas>=2.1 in /usr/local/lib/python3.11/dist-packages (from lifelines) (2.2.2)\n",
            "Requirement already satisfied: matplotlib>=3.0 in /usr/local/lib/python3.11/dist-packages (from lifelines) (3.10.0)\n",
            "Requirement already satisfied: autograd>=1.5 in /usr/local/lib/python3.11/dist-packages (from lifelines) (1.7.0)\n",
            "Collecting autograd-gamma>=0.3 (from lifelines)\n",
            "  Downloading autograd-gamma-0.5.0.tar.gz (4.0 kB)\n",
            "  Preparing metadata (setup.py) ... \u001b[?25l\u001b[?25hdone\n",
            "Collecting formulaic>=0.2.2 (from lifelines)\n",
            "  Downloading formulaic-1.1.1-py3-none-any.whl.metadata (6.9 kB)\n",
            "Collecting interface-meta>=1.2.0 (from formulaic>=0.2.2->lifelines)\n",
            "  Downloading interface_meta-1.3.0-py3-none-any.whl.metadata (6.7 kB)\n",
            "Requirement already satisfied: typing-extensions>=4.2.0 in /usr/local/lib/python3.11/dist-packages (from formulaic>=0.2.2->lifelines) (4.12.2)\n",
            "Requirement already satisfied: wrapt>=1.0 in /usr/local/lib/python3.11/dist-packages (from formulaic>=0.2.2->lifelines) (1.17.2)\n",
            "Requirement already satisfied: contourpy>=1.0.1 in /usr/local/lib/python3.11/dist-packages (from matplotlib>=3.0->lifelines) (1.3.1)\n",
            "Requirement already satisfied: cycler>=0.10 in /usr/local/lib/python3.11/dist-packages (from matplotlib>=3.0->lifelines) (0.12.1)\n",
            "Requirement already satisfied: fonttools>=4.22.0 in /usr/local/lib/python3.11/dist-packages (from matplotlib>=3.0->lifelines) (4.56.0)\n",
            "Requirement already satisfied: kiwisolver>=1.3.1 in /usr/local/lib/python3.11/dist-packages (from matplotlib>=3.0->lifelines) (1.4.8)\n",
            "Requirement already satisfied: packaging>=20.0 in /usr/local/lib/python3.11/dist-packages (from matplotlib>=3.0->lifelines) (24.2)\n",
            "Requirement already satisfied: pillow>=8 in /usr/local/lib/python3.11/dist-packages (from matplotlib>=3.0->lifelines) (11.1.0)\n",
            "Requirement already satisfied: pyparsing>=2.3.1 in /usr/local/lib/python3.11/dist-packages (from matplotlib>=3.0->lifelines) (3.2.1)\n",
            "Requirement already satisfied: python-dateutil>=2.7 in /usr/local/lib/python3.11/dist-packages (from matplotlib>=3.0->lifelines) (2.8.2)\n",
            "Requirement already satisfied: pytz>=2020.1 in /usr/local/lib/python3.11/dist-packages (from pandas>=2.1->lifelines) (2025.1)\n",
            "Requirement already satisfied: tzdata>=2022.7 in /usr/local/lib/python3.11/dist-packages (from pandas>=2.1->lifelines) (2025.1)\n",
            "Requirement already satisfied: six>=1.5 in /usr/local/lib/python3.11/dist-packages (from python-dateutil>=2.7->matplotlib>=3.0->lifelines) (1.17.0)\n",
            "Downloading lifelines-0.30.0-py3-none-any.whl (349 kB)\n",
            "\u001b[2K   \u001b[90m━━━━━━━━━━━━━━━━━━━━━━━━━━━━━━━━━━━━━━━━\u001b[0m \u001b[32m349.3/349.3 kB\u001b[0m \u001b[31m10.5 MB/s\u001b[0m eta \u001b[36m0:00:00\u001b[0m\n",
            "\u001b[?25hDownloading formulaic-1.1.1-py3-none-any.whl (115 kB)\n",
            "\u001b[2K   \u001b[90m━━━━━━━━━━━━━━━━━━━━━━━━━━━━━━━━━━━━━━━━\u001b[0m \u001b[32m115.7/115.7 kB\u001b[0m \u001b[31m8.7 MB/s\u001b[0m eta \u001b[36m0:00:00\u001b[0m\n",
            "\u001b[?25hDownloading interface_meta-1.3.0-py3-none-any.whl (14 kB)\n",
            "Building wheels for collected packages: autograd-gamma\n",
            "  Building wheel for autograd-gamma (setup.py) ... \u001b[?25l\u001b[?25hdone\n",
            "  Created wheel for autograd-gamma: filename=autograd_gamma-0.5.0-py3-none-any.whl size=4031 sha256=0237cb4450d25b54e0673af22d6d7a464778a90d990f5578521fba0690924c10\n",
            "  Stored in directory: /root/.cache/pip/wheels/8b/67/f4/2caaae2146198dcb824f31a303833b07b14a5ec863fb3acd7b\n",
            "Successfully built autograd-gamma\n",
            "Installing collected packages: interface-meta, autograd-gamma, formulaic, lifelines\n",
            "Successfully installed autograd-gamma-0.5.0 formulaic-1.1.1 interface-meta-1.3.0 lifelines-0.30.0\n"
          ]
        }
      ],
      "source": [
        "!pip install lifelines\n"
      ]
    },
    {
      "cell_type": "markdown",
      "source": [
        "**Suplementary Figure 1**"
      ],
      "metadata": {
        "id": "dwftV4JjZYO_"
      }
    },
    {
      "cell_type": "code",
      "execution_count": 13,
      "metadata": {
        "colab": {
          "base_uri": "https://localhost:8080/",
          "height": 461
        },
        "id": "-jfQ1WPBg5yL",
        "outputId": "06b656e4-f1ce-46d2-9570-c918d89e6eb9"
      },
      "outputs": [
        {
          "output_type": "display_data",
          "data": {
            "text/plain": [
              "<Figure size 640x480 with 1 Axes>"
            ],
            "image/png": "[encoded data removed]"
          },
          "metadata": {}
        }
      ],
      "source": [
        "import matplotlib\n",
        "import matplotlib.pyplot as plt\n",
        "from matplotlib.offsetbox import AnchoredText\n",
        "from lifelines.statistics import logrank_test\n",
        "from lifelines import KaplanMeierFitter\n",
        "\n",
        "matplotlib.rcParams.update({'font.size': 16, \"legend.frameon\": False})\n",
        "\n",
        "dataset = df\n",
        "\n",
        "E = (dataset.status == 1)\n",
        "T = dataset.time\n",
        "group1 = (dataset.stage == 1)\n",
        "label1 = \"Advanced\"\n",
        "group2 = (dataset.stage == 0)\n",
        "label2 = \"Early\"\n",
        "\n",
        "def km_and_logrank(group1, group2, T, E, label1, label2):\n",
        "    \"\"\"\n",
        "    group1: booleans identificando o grupo 1\n",
        "    group2: booleans identificando o grupo 2\n",
        "    T: pd.Series identificando o tempo da análise de sobrevivência\n",
        "    E: pd.Series identificando o evento (censurado ou evento) da análise de sobrevivência\n",
        "    label1: nome do grupo 1\n",
        "    label2: nome do grupo 2\n",
        "    \"\"\"\n",
        "    T1=T[group1]\n",
        "    E1=E[group1]\n",
        "\n",
        "    T2=T[group2]\n",
        "    E2=E[group2]\n",
        "\n",
        "    #logrank_test\n",
        "    results=logrank_test(T1,T2,event_observed_A=E1, event_observed_B=E2)\n",
        "\n",
        "    #Kaplan Meier plot\n",
        "    kmf = KaplanMeierFitter()\n",
        "\n",
        "    ax = plt.subplot(111)\n",
        "    ax = kmf.fit(T1, E1, label=f\"{label1}\").plot(ax=ax, ci_show=False, show_censors=True)\n",
        "    ax = kmf.fit(T2, E2, label=f\"{label2}\").plot(ax=ax, ci_show=False, show_censors=True)\n",
        "    ax.set_xlabel('Days after diagnosis')\n",
        "    ax.set_ylabel('Survival function')\n",
        "    plt.ylim([0, 1.1])\n",
        "    anchored_text = AnchoredText(\"log-rank p-value: {:.3}\".format(results.p_value), loc=3, frameon=False)\n",
        "    ax.add_artist(anchored_text)\n",
        "\n",
        "      # Salva o gráfico em formato SVG\n",
        "    plt.savefig(\"kaplan_meier_plot.svg\", format='svg')\n",
        "    plt.show()\n",
        "\n",
        "\n",
        "km_and_logrank(group1, group2, T, E, label1, label2)\n",
        "\n"
      ]
    },
    {
      "cell_type": "markdown",
      "metadata": {
        "id": "pWaRdkhkyWbR"
      },
      "source": [
        "**UPSETS PLOTS**"
      ]
    },
    {
      "cell_type": "markdown",
      "metadata": {
        "id": "n7HLcjhASVQg"
      },
      "source": [
        "RF (GKN2, C7, DSEL, IMPDH1P8, MYOSLID, COL9A3, GCGR, NLGN1, NUS1P2, VIL1\n",
        "H2AC14, MMP20, CACNA1I, KIAA0895LP1, HMGB3P6, LINC02830, ALDH3B1, AQP1, PRSS3, PLAAT1)\n",
        "\n",
        "XGB (GKN2, H2AC14, MYOSLID, IMPDH1P8, COL9A3, GABRP, MMP20, C7, DUXAP9, PCAT7, PLAT1, GCGR, ALDH3B1, FOSB, ALG1L, DSEL, PPP1R27, COL4A3, GSDMC, TNS4)\n",
        "\n",
        "CAT (H2AC14, GKN2, MYOSLID, COL9A3, MMP20, GABRP, IMPDH1P8, PLAAT1, NUS1P2, LINC01910, KIAA0895LP1, DSEL, HMGB3P6, COL4A3, BMP7, ALDH3B1, ONECUT3, ESCO2, DUXAP9, PPP1R27)\n",
        "\n",
        "RF_RFE (GKN2, COL9A3, PCAT7, H2AC14, MMP20, C7, ALG1L, LINC00887, MYOSLID, PLAAT1, ESCO2, GCGR, GINS2, HMGB3P6, GSDMC, IMPDH1P8, CSTL1, FTCD, ONECUT3, ALDH3B1)\n",
        "\n",
        "XGB_RFE (H2AC14, GKN2, COL9A3, MMP20, PLXNB3, IMPDH1P8, PCAT7, MYOSLID, ONECUT3, LINC0887, GCGR, GINS2, FTCD, ALDH3B1, PPP1R27, TNS4, PLAAT1, CAV1, GSDMC, C7)\n",
        "\n",
        "CAT_RFE (H2AC14, GKN2, MMP20, COL9A3, MYOSLID, LINC00887, PCAT7, C7, IMPDH1P8, PLAAT1, ALDH3B1, PLXNB3, FTCD, GCGR, CSTL1, HMGB3P6, GSDMC, ALG1L, ONECUT3, PPP1R27)\n",
        "\n",
        "RF_CV1 (COL9A3, IMPDH1P8, GABRP, ESCO2, GNK2, NUS1P2, PCAT7, H2AC14, MAGI2, C7, MYOSLID, ALDH3B1, HMGB3P6, DSEL, KIAA08095LP1, AQP1, GCGR, PLAAT1, LINC01910, MMP20)\n",
        "\n",
        "RF_CV2 (COL9A3, IMPDH1P8, MMP20, GABRP, GKN2, TMPRSS4, NUS1P2, GSDMC, GCGR, HMGB3P6, KIAA0895LP1, ESCO2, LINC02830, MAGI2, AQP1, FOXG1, MYOSLID, C7, ATF7IP, CSTL1)\n",
        "\n",
        "RF_CV3 (COL9A3, IMPDH1P8, MMP20, GKN2, KIAA08095LP1, NUS1P2, GABRP, PLAAT1, ESCO2, C7, H2AC14, FAM72C, CDT1, HMGB3P6, MAGI2, GINS2, GSDMC, WSCD2, FTCD, MYOSLID)\n",
        "\n",
        "RF_CV4 (IMPDH1P8, GKN2, COL9A3, MYOSLID, ESCO2, GABRP, LINC01910, NUS1P2, H2AC14, TMPRSS4, KIAA0895LP1, GSDMC, MAGI2, PRSS3, MMP20, C7, GCGR, DSEL, ALDH3B1, PLXNB3)\n",
        "\n",
        "RF_CV5 (COL9A3, GKN2, IMPDH1P8, NUS1P2, GABRP, MYOSLID, PLAAT1, CSTL1, GCGR, ESCO2, H2AC14, LINC02830, C7, COL4A3, DUXAP9, CACNA1I, AQP1, HMGB3P6, NLGN1, PCAT7)\n",
        "\n",
        "RF_RFE_CV1 (COL9A3, GKN2, HGMB3P6, H2AC14, C7, ESCO2, MMP20, IMPDH1P8, LINC02830, PCAT7, ALDH3B1, ONECUT3, PLAAT1, CSTL1, ALG1L, GCGR, MYOSLID, GSDMC, GINS2, LINC00887)\n",
        "\n",
        "RF_RFE_CV2 (GKN2, COL9A3, C7, H2AC14, LINC02830, MMP20, GSDMC, ESCO2, CSTL1, ALG1L, PCAT7, HMGB3P6, GINS2, IMPDH1P8, PLAAT1, MYOSLID, GCGR, LINC00887, TMPRSS4, ONECUT3)\n",
        "\n",
        "RF_RFE_CV3 (GKN2, COL9A3, HMGB3P6, ALG1L, C7, MMP20, GINS2, PLAAT1, LINC02830, CSTL1, IMPDH1P8, H2AC14, LINC00887, ESCO2, MYOSLID, PCAT7, ONECUT3, FTCD, ALDH3B1, GSDMC)\n",
        "\n",
        "RF_RFE_CV4 (COL9A3, GKN2, ESCO2, C7, H2AC14, MMP20, ALG1L, IMPDH1P8, GINS2, CSTL1, PLAAT1, FTCD, ONECUT3, GSDMC, HMGB3P6, PCAT7, MYOSLID, LINC02830, TMPRSS4, CACNA1I)\n",
        "\n",
        "RF_RFE_CV5 (COL9A3, GKN2, MMP20, C7, LINC02830, ALG1L, CSTL1, PCAT7, H2AC14, PLAAT1, IMPDH1P8, GCGR, TMPRSS4, ONECUT3, MYOSLID, LINC00887, HMGB3P6, ESCO2, GINS2, DUXAP9)"
      ]
    },
    {
      "cell_type": "code",
      "execution_count": 14,
      "metadata": {
        "colab": {
          "base_uri": "https://localhost:8080/"
        },
        "id": "J9cMFl82FYAr",
        "outputId": "584c27b3-f587-4919-cb25-be0fb5d7dcfb"
      },
      "outputs": [
        {
          "output_type": "stream",
          "name": "stdout",
          "text": [
            "Requirement already satisfied: matplotlib-venn in /usr/local/lib/python3.11/dist-packages (1.1.1)\n",
            "Requirement already satisfied: matplotlib in /usr/local/lib/python3.11/dist-packages (from matplotlib-venn) (3.10.0)\n",
            "Requirement already satisfied: numpy in /usr/local/lib/python3.11/dist-packages (from matplotlib-venn) (1.26.4)\n",
            "Requirement already satisfied: scipy in /usr/local/lib/python3.11/dist-packages (from matplotlib-venn) (1.13.1)\n",
            "Requirement already satisfied: contourpy>=1.0.1 in /usr/local/lib/python3.11/dist-packages (from matplotlib->matplotlib-venn) (1.3.1)\n",
            "Requirement already satisfied: cycler>=0.10 in /usr/local/lib/python3.11/dist-packages (from matplotlib->matplotlib-venn) (0.12.1)\n",
            "Requirement already satisfied: fonttools>=4.22.0 in /usr/local/lib/python3.11/dist-packages (from matplotlib->matplotlib-venn) (4.56.0)\n",
            "Requirement already satisfied: kiwisolver>=1.3.1 in /usr/local/lib/python3.11/dist-packages (from matplotlib->matplotlib-venn) (1.4.8)\n",
            "Requirement already satisfied: packaging>=20.0 in /usr/local/lib/python3.11/dist-packages (from matplotlib->matplotlib-venn) (24.2)\n",
            "Requirement already satisfied: pillow>=8 in /usr/local/lib/python3.11/dist-packages (from matplotlib->matplotlib-venn) (11.1.0)\n",
            "Requirement already satisfied: pyparsing>=2.3.1 in /usr/local/lib/python3.11/dist-packages (from matplotlib->matplotlib-venn) (3.2.1)\n",
            "Requirement already satisfied: python-dateutil>=2.7 in /usr/local/lib/python3.11/dist-packages (from matplotlib->matplotlib-venn) (2.8.2)\n",
            "Requirement already satisfied: six>=1.5 in /usr/local/lib/python3.11/dist-packages (from python-dateutil>=2.7->matplotlib->matplotlib-venn) (1.17.0)\n"
          ]
        }
      ],
      "source": [
        "pip install matplotlib-venn\n"
      ]
    },
    {
      "cell_type": "code",
      "source": [
        "!pip install upsetplot\n"
      ],
      "metadata": {
        "colab": {
          "base_uri": "https://localhost:8080/"
        },
        "id": "cwDBH8V-g_9U",
        "outputId": "ff9ecf82-fcae-4b92-ba05-8ce297a3849a"
      },
      "execution_count": 15,
      "outputs": [
        {
          "output_type": "stream",
          "name": "stdout",
          "text": [
            "Collecting upsetplot\n",
            "  Downloading UpSetPlot-0.9.0.tar.gz (23 kB)\n",
            "  Installing build dependencies ... \u001b[?25l\u001b[?25hdone\n",
            "  Getting requirements to build wheel ... \u001b[?25l\u001b[?25hdone\n",
            "  Preparing metadata (pyproject.toml) ... \u001b[?25l\u001b[?25hdone\n",
            "Requirement already satisfied: pandas>=0.23 in /usr/local/lib/python3.11/dist-packages (from upsetplot) (2.2.2)\n",
            "Requirement already satisfied: matplotlib>=2.0 in /usr/local/lib/python3.11/dist-packages (from upsetplot) (3.10.0)\n",
            "Requirement already satisfied: contourpy>=1.0.1 in /usr/local/lib/python3.11/dist-packages (from matplotlib>=2.0->upsetplot) (1.3.1)\n",
            "Requirement already satisfied: cycler>=0.10 in /usr/local/lib/python3.11/dist-packages (from matplotlib>=2.0->upsetplot) (0.12.1)\n",
            "Requirement already satisfied: fonttools>=4.22.0 in /usr/local/lib/python3.11/dist-packages (from matplotlib>=2.0->upsetplot) (4.56.0)\n",
            "Requirement already satisfied: kiwisolver>=1.3.1 in /usr/local/lib/python3.11/dist-packages (from matplotlib>=2.0->upsetplot) (1.4.8)\n",
            "Requirement already satisfied: numpy>=1.23 in /usr/local/lib/python3.11/dist-packages (from matplotlib>=2.0->upsetplot) (1.26.4)\n",
            "Requirement already satisfied: packaging>=20.0 in /usr/local/lib/python3.11/dist-packages (from matplotlib>=2.0->upsetplot) (24.2)\n",
            "Requirement already satisfied: pillow>=8 in /usr/local/lib/python3.11/dist-packages (from matplotlib>=2.0->upsetplot) (11.1.0)\n",
            "Requirement already satisfied: pyparsing>=2.3.1 in /usr/local/lib/python3.11/dist-packages (from matplotlib>=2.0->upsetplot) (3.2.1)\n",
            "Requirement already satisfied: python-dateutil>=2.7 in /usr/local/lib/python3.11/dist-packages (from matplotlib>=2.0->upsetplot) (2.8.2)\n",
            "Requirement already satisfied: pytz>=2020.1 in /usr/local/lib/python3.11/dist-packages (from pandas>=0.23->upsetplot) (2025.1)\n",
            "Requirement already satisfied: tzdata>=2022.7 in /usr/local/lib/python3.11/dist-packages (from pandas>=0.23->upsetplot) (2025.1)\n",
            "Requirement already satisfied: six>=1.5 in /usr/local/lib/python3.11/dist-packages (from python-dateutil>=2.7->matplotlib>=2.0->upsetplot) (1.17.0)\n",
            "Building wheels for collected packages: upsetplot\n",
            "  Building wheel for upsetplot (pyproject.toml) ... \u001b[?25l\u001b[?25hdone\n",
            "  Created wheel for upsetplot: filename=upsetplot-0.9.0-py3-none-any.whl size=24832 sha256=13e3f001c93b2943463ddf45cfc3454459f9f1e33437f779fa9ccbbea270ad66\n",
            "  Stored in directory: /root/.cache/pip/wheels/7b/ce/88/1d0bce5b2680165c29c3e68416325e79674d5a9f422d037996\n",
            "Successfully built upsetplot\n",
            "Installing collected packages: upsetplot\n",
            "Successfully installed upsetplot-0.9.0\n"
          ]
        }
      ]
    },
    {
      "cell_type": "markdown",
      "source": [
        "**Figure 4**"
      ],
      "metadata": {
        "id": "THQ3QWgeZqzN"
      }
    },
    {
      "cell_type": "code",
      "source": [
        "import pandas as pd\n",
        "import matplotlib.pyplot as plt\n",
        "import upsetplot\n",
        "\n",
        "# Definindo cinco conjuntos de genes como listas (ou conjuntos)\n",
        "genes_grupo1 = {'COL9A3', 'GKN2', 'HMGB3P6', 'H2AC14', 'C7', 'ESCO2', 'MMP20', 'IMPDH1P8', 'LINC02830', 'PCAT7', 'ALDH3B1', 'ONECUT3', 'PLAAT1', 'CSTL1', 'ALG1L', 'GCGR', 'MYOSLID', 'GSDMC', 'GINS2', 'LINC00887'}\n",
        "genes_grupo2 = {'GKN2', 'COL9A3', 'C7', 'H2AC14', 'LINC02830', 'MMP20', 'GSDMC', 'ESCO2', 'CSTL1', 'ALG1L', 'PCAT7', 'HMGB3P6', 'GINS2', 'IMPDH1P8', 'PLAAT1', 'MYOSLID', 'GCGR', 'LINC00887', 'TMPRSS4', 'ONECUT3'}\n",
        "genes_grupo3 = {'GKN2', 'COL9A3', 'HMGB3P6', 'ALG1L', 'C7', 'MMP20', 'GINS2', 'PLAAT1', 'LINC02830', 'CSTL1', 'IMPDH1P8', 'H2AC14', 'LINC00887', 'ESCO2', 'MYOSLID', 'PCAT7', 'ONECUT3', 'FTCD', 'ALDH3B1', 'GSDMC'}\n",
        "genes_grupo4 = {'COL9A3', 'GKN2', 'ESCO2', 'C7', 'H2AC14', 'MMP20', 'ALG1L', 'IMPDH1P8', 'GINS2', 'CSTL1', 'PLAAT1', 'FTCD', 'ONECUT3', 'GSDMC', 'HMGB3P6', 'PCAT7', 'MYOSLID', 'LINC02830', 'TMPRSS4', 'CACNA1I'}\n",
        "genes_grupo5 = {'COL9A3', 'GKN2', 'MMP20', 'C7', 'LINC02830', 'ALG1L', 'CSTL1', 'PCAT7', 'H2AC14', 'PLAAT1', 'IMPDH1P8', 'GCGR', 'TMPRSS4', 'ONECUT3', 'MYOSLID', 'LINC00887', 'HMGB3P6', 'ESCO2', 'GINS2', 'DUXAP9'}\n",
        "\n",
        "\n",
        "# Criando um DataFrame para armazenar os genes e suas presenças nos grupos\n",
        "todos_genes = list(genes_grupo1 | genes_grupo2 | genes_grupo3 | genes_grupo4 | genes_grupo5)\n",
        "tabela = pd.DataFrame(index=todos_genes)\n",
        "tabela['RF_RFE_CV1'] = tabela.index.isin(genes_grupo1)\n",
        "tabela['RF_RFE_CV2'] = tabela.index.isin(genes_grupo2)\n",
        "tabela['RF_RFE_CV3'] = tabela.index.isin(genes_grupo3)\n",
        "tabela['RF_RFE_CV4'] = tabela.index.isin(genes_grupo4)\n",
        "tabela['RF_RFE_CV5'] = tabela.index.isin(genes_grupo5)\n",
        "\n",
        "# Encontrando a interseção entre os cinco grupos\n",
        "genes_interseção_5_grupos = tabela[(tabela['RF_RFE_CV1']) &\n",
        "                                   (tabela['RF_RFE_CV2']) &\n",
        "                                   (tabela['RF_RFE_CV3']) &\n",
        "                                   (tabela['RF_RFE_CV4']) &\n",
        "                                   (tabela['RF_RFE_CV5'])].index.tolist()\n",
        "\n",
        "print(\"Genes presentes em todos os 5 grupos:\", genes_interseção_5_grupos)\n",
        "\n",
        "# Contando as interseções para o UpSet plot\n",
        "combinações = tabela.groupby(['RF_RFE_CV1', 'RF_RFE_CV2', 'RF_RFE_CV3', 'RF_RFE_CV4', 'RF_RFE_CV5']).size()\n",
        "\n",
        "# Plotando o UpSet plot\n",
        "upsetplot.plot(combinações, orientation='horizontal')\n",
        "#plt.title(\"Five Random Forest Folds\")\n",
        "plt.savefig(\"upset_plot.svg\", format='svg', dpi=300)\n",
        "\n",
        "plt.show()\n",
        "\n",
        "\n"
      ],
      "metadata": {
        "colab": {
          "base_uri": "https://localhost:8080/",
          "height": 966
        },
        "id": "9fHFq4I77D6m",
        "outputId": "cbd8e442-72d1-49bc-a86e-791e8d48d25d"
      },
      "execution_count": 16,
      "outputs": [
        {
          "output_type": "stream",
          "name": "stdout",
          "text": [
            "Genes presentes em todos os 5 grupos: ['MYOSLID', 'GINS2', 'HMGB3P6', 'ALG1L', 'PLAAT1', 'PCAT7', 'LINC02830', 'ESCO2', 'H2AC14', 'CSTL1', 'COL9A3', 'C7', 'MMP20', 'GKN2', 'IMPDH1P8', 'ONECUT3']\n"
          ]
        },
        {
          "output_type": "stream",
          "name": "stderr",
          "text": [
            "/usr/local/lib/python3.11/dist-packages/upsetplot/plotting.py:795: FutureWarning: A value is trying to be set on a copy of a DataFrame or Series through chained assignment using an inplace method.\n",
            "The behavior will change in pandas 3.0. This inplace method will never work because the intermediate object on which we are setting values always behaves as a copy.\n",
            "\n",
            "For example, when doing 'df[col].method(value, inplace=True)', try using 'df.method({col: value}, inplace=True)' or df[col] = df[col].method(value) instead, to perform the operation inplace on the original object.\n",
            "\n",
            "\n",
            "  styles[\"linewidth\"].fillna(1, inplace=True)\n",
            "/usr/local/lib/python3.11/dist-packages/upsetplot/plotting.py:796: FutureWarning: A value is trying to be set on a copy of a DataFrame or Series through chained assignment using an inplace method.\n",
            "The behavior will change in pandas 3.0. This inplace method will never work because the intermediate object on which we are setting values always behaves as a copy.\n",
            "\n",
            "For example, when doing 'df[col].method(value, inplace=True)', try using 'df.method({col: value}, inplace=True)' or df[col] = df[col].method(value) instead, to perform the operation inplace on the original object.\n",
            "\n",
            "\n",
            "  styles[\"facecolor\"].fillna(self._facecolor, inplace=True)\n",
            "/usr/local/lib/python3.11/dist-packages/upsetplot/plotting.py:797: FutureWarning: A value is trying to be set on a copy of a DataFrame or Series through chained assignment using an inplace method.\n",
            "The behavior will change in pandas 3.0. This inplace method will never work because the intermediate object on which we are setting values always behaves as a copy.\n",
            "\n",
            "For example, when doing 'df[col].method(value, inplace=True)', try using 'df.method({col: value}, inplace=True)' or df[col] = df[col].method(value) instead, to perform the operation inplace on the original object.\n",
            "\n",
            "\n",
            "  styles[\"edgecolor\"].fillna(styles[\"facecolor\"], inplace=True)\n",
            "/usr/local/lib/python3.11/dist-packages/upsetplot/plotting.py:798: FutureWarning: A value is trying to be set on a copy of a DataFrame or Series through chained assignment using an inplace method.\n",
            "The behavior will change in pandas 3.0. This inplace method will never work because the intermediate object on which we are setting values always behaves as a copy.\n",
            "\n",
            "For example, when doing 'df[col].method(value, inplace=True)', try using 'df.method({col: value}, inplace=True)' or df[col] = df[col].method(value) instead, to perform the operation inplace on the original object.\n",
            "\n",
            "\n",
            "  styles[\"linestyle\"].fillna(\"solid\", inplace=True)\n"
          ]
        },
        {
          "output_type": "display_data",
          "data": {
            "text/plain": [
              "<Figure size 711.111x488.889 with 4 Axes>"
            ],
            "image/png": "[encoded data removed]"
          },
          "metadata": {}
        }
      ]
    },
    {
      "cell_type": "code",
      "source": [
        "# Conjuntos dos grupos\n",
        "genes_grupo1 = {'COL9A3', 'GKN2', 'HMGB3P6', 'H2AC14', 'C7', 'ESCO2', 'MMP20', 'IMPDH1P8', 'LINC02830', 'PCAT7', 'ALDH3B1', 'ONECUT3', 'PLAAT1', 'CSTL1', 'ALG1L', 'GCGR', 'MYOSLID', 'GSDMC', 'GINS2', 'LINC00887'}\n",
        "genes_grupo2 = {'GKN2', 'COL9A3', 'C7', 'H2AC14', 'LINC02830', 'MMP20', 'GSDMC', 'ESCO2', 'CSTL1', 'ALG1L', 'PCAT7', 'HMGB3P6', 'GINS2', 'IMPDH1P8', 'PLAAT1', 'MYOSLID', 'GCGR', 'LINC00887', 'TMPRSS4', 'ONECUT3'}\n",
        "genes_grupo3 = {'GKN2', 'COL9A3', 'HMGB3P6', 'ALG1L', 'C7', 'MMP20', 'GINS2', 'PLAAT1', 'LINC02830', 'CSTL1', 'IMPDH1P8', 'H2AC14', 'LINC00887', 'ESCO2', 'MYOSLID', 'PCAT7', 'ONECUT3', 'FTCD', 'ALDH3B1', 'GSDMC'}\n",
        "genes_grupo4 = {'COL9A3', 'GKN2', 'ESCO2', 'C7', 'H2AC14', 'MMP20', 'ALG1L', 'IMPDH1P8', 'GINS2', 'CSTL1', 'PLAAT1', 'FTCD', 'ONECUT3', 'GSDMC', 'HMGB3P6', 'PCAT7', 'MYOSLID', 'LINC02830', 'TMPRSS4', 'CACNA1I'}\n",
        "genes_grupo5 = {'COL9A3', 'GKN2', 'MMP20', 'C7', 'LINC02830', 'ALG1L', 'CSTL1', 'PCAT7', 'H2AC14', 'PLAAT1', 'IMPDH1P8', 'GCGR', 'TMPRSS4', 'ONECUT3', 'MYOSLID', 'LINC00887', 'HMGB3P6', 'ESCO2', 'GINS2', 'DUXAP9'}\n",
        "\n",
        "# Combinar todos os grupos\n",
        "todos_genes = genes_grupo1 | genes_grupo2 | genes_grupo3 | genes_grupo4 | genes_grupo5\n",
        "\n",
        "# Contagem de ocorrências por gene\n",
        "from collections import Counter\n",
        "contagem_genes = Counter(\n",
        "    gene for grupo in [genes_grupo1, genes_grupo2, genes_grupo3, genes_grupo4, genes_grupo5] for gene in grupo\n",
        ")\n",
        "\n",
        "# Separar os genes por número de ocorrências\n",
        "genes_por_frequencia = {i: [] for i in range(1, 6)}\n",
        "for gene, frequencia in contagem_genes.items():\n",
        "    genes_por_frequencia[frequencia].append(gene)\n",
        "\n",
        "# Exibir resultados\n",
        "for i in range(1, 6):\n",
        "    print(f\"Genes que aparecem em {i} grupo(s):\")\n",
        "    print(genes_por_frequencia[i])\n",
        "    print(f\"Número total: {len(genes_por_frequencia[i])}\\n\")\n"
      ],
      "metadata": {
        "colab": {
          "base_uri": "https://localhost:8080/"
        },
        "id": "oAsq71WCclPW",
        "outputId": "8811cd01-bc16-4e7b-95de-d412c080a4e4"
      },
      "execution_count": 17,
      "outputs": [
        {
          "output_type": "stream",
          "name": "stdout",
          "text": [
            "Genes que aparecem em 1 grupo(s):\n",
            "['CACNA1I', 'DUXAP9']\n",
            "Número total: 2\n",
            "\n",
            "Genes que aparecem em 2 grupo(s):\n",
            "['ALDH3B1', 'FTCD']\n",
            "Número total: 2\n",
            "\n",
            "Genes que aparecem em 3 grupo(s):\n",
            "['GCGR', 'TMPRSS4']\n",
            "Número total: 2\n",
            "\n",
            "Genes que aparecem em 4 grupo(s):\n",
            "['LINC00887', 'GSDMC']\n",
            "Número total: 2\n",
            "\n",
            "Genes que aparecem em 5 grupo(s):\n",
            "['ESCO2', 'MYOSLID', 'GINS2', 'H2AC14', 'CSTL1', 'COL9A3', 'C7', 'MMP20', 'HMGB3P6', 'GKN2', 'IMPDH1P8', 'ALG1L', 'PLAAT1', 'ONECUT3', 'PCAT7', 'LINC02830']\n",
            "Número total: 16\n",
            "\n"
          ]
        }
      ]
    },
    {
      "cell_type": "markdown",
      "source": [
        "**Figure 5**"
      ],
      "metadata": {
        "id": "KWqaJ6YzZwZc"
      }
    },
    {
      "cell_type": "code",
      "source": [
        "import pandas as pd\n",
        "import matplotlib.pyplot as plt\n",
        "import upsetplot\n",
        "\n",
        "# Definindo cinco conjuntos de genes como listas (ou conjuntos)\n",
        "genes_grupo1 = {'IMPDH1P8', 'H2AC14', 'DSEL', 'MYOSLID', 'MMP20', 'PLAAT1', 'ALDH3B1', 'COL9A3', 'GKN2'}\n",
        "genes_grupo2 = {'IMPDH1P8', 'H2AC14', 'GCGR', 'C7', 'ONECUT3', 'MYOSLID', 'MMP20', 'PLAAT1', 'PCAT7', 'FTCD', 'ALDH3B1', 'COL9A3', 'GKN2', 'GSDMC'}\n",
        "genes_grupo3 = {'ESCO2', 'C7', 'GABRP', 'MYOSLID', 'COL9A3', 'IMPDH1P8', 'NUS1P2'}\n",
        "genes_grupo4 = {'H2AC14', 'ESCO2', 'ALG1L', 'C7', 'MMP20', 'GKN2', 'PLAAT1', 'MYOSLID', 'COL9A3', 'IMPDH1P8', 'ONECUT3', 'PCAT7', 'CSTL1', 'LINC02830', 'GINS2', 'HMGB3P6'}\n",
        "\n",
        "\n",
        "# Criando um DataFrame para armazenar os genes e suas presenças nos grupos\n",
        "todos_genes = list(genes_grupo1 | genes_grupo2 | genes_grupo3 | genes_grupo4)\n",
        "tabela = pd.DataFrame(index=todos_genes)\n",
        "tabela['RF_XGB_CAT'] = tabela.index.isin(genes_grupo1)\n",
        "tabela['RF_XGB_CAT_RFE'] = tabela.index.isin(genes_grupo2)\n",
        "tabela['RF_CV'] = tabela.index.isin(genes_grupo3)\n",
        "tabela['RF_RFE_CV'] = tabela.index.isin(genes_grupo4)\n",
        "\n",
        "\n",
        "# Encontrando a interseção entre os cinco grupos\n",
        "genes_interseção_5_grupos = tabela[(tabela['RF_XGB_CAT']) &\n",
        "                                   (tabela['RF_XGB_CAT_RFE']) &\n",
        "                                   (tabela['RF_CV']) &\n",
        "                                   (tabela['RF_RFE_CV'])].index.tolist()\n",
        "\n",
        "print(\"Genes presentes em todos os 4 grupos:\", genes_interseção_5_grupos)\n",
        "\n",
        "# Contando as interseções para o UpSet plot\n",
        "combinações = tabela.groupby(['RF_XGB_CAT', 'RF_XGB_CAT_RFE', 'RF_CV', 'RF_RFE_CV']).size()\n",
        "\n",
        "# Plotando o UpSet plot\n",
        "upsetplot.plot(combinações, orientation='horizontal', show_counts=True )\n",
        "#plt.title(\"UpSet Plot of the Best Models\")\n",
        "plt.savefig(\"upset_plot2.svg\", format='svg', dpi=300)\n",
        "plt.show()"
      ],
      "metadata": {
        "colab": {
          "base_uri": "https://localhost:8080/",
          "height": 944
        },
        "id": "nT7LzqTc9PFX",
        "outputId": "30038732-b1aa-4320-ad8c-c9a124e81996"
      },
      "execution_count": 18,
      "outputs": [
        {
          "output_type": "stream",
          "name": "stdout",
          "text": [
            "Genes presentes em todos os 4 grupos: ['MYOSLID', 'COL9A3', 'IMPDH1P8']\n"
          ]
        },
        {
          "output_type": "stream",
          "name": "stderr",
          "text": [
            "/usr/local/lib/python3.11/dist-packages/upsetplot/plotting.py:795: FutureWarning: A value is trying to be set on a copy of a DataFrame or Series through chained assignment using an inplace method.\n",
            "The behavior will change in pandas 3.0. This inplace method will never work because the intermediate object on which we are setting values always behaves as a copy.\n",
            "\n",
            "For example, when doing 'df[col].method(value, inplace=True)', try using 'df.method({col: value}, inplace=True)' or df[col] = df[col].method(value) instead, to perform the operation inplace on the original object.\n",
            "\n",
            "\n",
            "  styles[\"linewidth\"].fillna(1, inplace=True)\n",
            "/usr/local/lib/python3.11/dist-packages/upsetplot/plotting.py:796: FutureWarning: A value is trying to be set on a copy of a DataFrame or Series through chained assignment using an inplace method.\n",
            "The behavior will change in pandas 3.0. This inplace method will never work because the intermediate object on which we are setting values always behaves as a copy.\n",
            "\n",
            "For example, when doing 'df[col].method(value, inplace=True)', try using 'df.method({col: value}, inplace=True)' or df[col] = df[col].method(value) instead, to perform the operation inplace on the original object.\n",
            "\n",
            "\n",
            "  styles[\"facecolor\"].fillna(self._facecolor, inplace=True)\n",
            "/usr/local/lib/python3.11/dist-packages/upsetplot/plotting.py:797: FutureWarning: A value is trying to be set on a copy of a DataFrame or Series through chained assignment using an inplace method.\n",
            "The behavior will change in pandas 3.0. This inplace method will never work because the intermediate object on which we are setting values always behaves as a copy.\n",
            "\n",
            "For example, when doing 'df[col].method(value, inplace=True)', try using 'df.method({col: value}, inplace=True)' or df[col] = df[col].method(value) instead, to perform the operation inplace on the original object.\n",
            "\n",
            "\n",
            "  styles[\"edgecolor\"].fillna(styles[\"facecolor\"], inplace=True)\n",
            "/usr/local/lib/python3.11/dist-packages/upsetplot/plotting.py:798: FutureWarning: A value is trying to be set on a copy of a DataFrame or Series through chained assignment using an inplace method.\n",
            "The behavior will change in pandas 3.0. This inplace method will never work because the intermediate object on which we are setting values always behaves as a copy.\n",
            "\n",
            "For example, when doing 'df[col].method(value, inplace=True)', try using 'df.method({col: value}, inplace=True)' or df[col] = df[col].method(value) instead, to perform the operation inplace on the original object.\n",
            "\n",
            "\n",
            "  styles[\"linestyle\"].fillna(\"solid\", inplace=True)\n"
          ]
        },
        {
          "output_type": "display_data",
          "data": {
            "text/plain": [
              "<Figure size 800x444.444 with 4 Axes>"
            ],
            "image/png": "[encoded data removed]"
          },
          "metadata": {}
        }
      ]
    },
    {
      "cell_type": "code",
      "source": [
        "import pandas as pd\n",
        "import matplotlib.pyplot as plt\n",
        "import upsetplot\n",
        "\n",
        "# Definindo cinco conjuntos de genes como listas (ou conjuntos)\n",
        "genes_grupo1 = {'IMPDH1P8', 'H2AC14', 'DSEL', 'MYOSLID', 'MMP20', 'PLAAT1', 'ALDH3B1', 'COL9A3', 'GKN2'}\n",
        "genes_grupo2 = {'IMPDH1P8', 'H2AC14', 'GCGR', 'C7', 'ONECUT3', 'MYOSLID', 'MMP20', 'PLAAT1', 'PCAT7', 'FTCD', 'ALDH3B1', 'COL9A3', 'GKN2', 'GSDMC'}\n",
        "genes_grupo3 = {'ESCO2', 'C7', 'GABRP', 'MYOSLID', 'COL9A3', 'IMPDH1P8', 'NUS1P2'}\n",
        "genes_grupo4 = {'H2AC14', 'ESCO2', 'ALG1L', 'C7', 'MMP20', 'GKN2', 'PLAAT1', 'MYOSLID', 'COL9A3', 'IMPDH1P8', 'ONECUT3', 'PCAT7', 'CSTL1', 'LINC02830', 'GINS2', 'HMGB3P6'}\n",
        "\n",
        "\n",
        "\n",
        "# Combinar todos os grupos\n",
        "todos_genes = genes_grupo1 | genes_grupo2 | genes_grupo3 | genes_grupo4\n",
        "\n",
        "# Contagem de ocorrências por gene\n",
        "from collections import Counter\n",
        "contagem_genes = Counter(\n",
        "    gene for grupo in [genes_grupo1, genes_grupo2, genes_grupo3, genes_grupo4] for gene in grupo\n",
        ")\n",
        "\n",
        "# Separar os genes por número de ocorrências\n",
        "genes_por_frequencia = {i: [] for i in range(1, 6)}\n",
        "for gene, frequencia in contagem_genes.items():\n",
        "    genes_por_frequencia[frequencia].append(gene)\n",
        "\n",
        "# Exibir resultados\n",
        "for i in range(1, 6):\n",
        "    print(f\"Genes que aparecem em {i} grupo(s):\")\n",
        "    print(genes_por_frequencia[i])\n",
        "    print(f\"Número total: {len(genes_por_frequencia[i])}\\n\")"
      ],
      "metadata": {
        "colab": {
          "base_uri": "https://localhost:8080/"
        },
        "id": "WyupaC4FiZGj",
        "outputId": "fb7efacd-4367-48fd-f8c8-d6e2927a0ec5"
      },
      "execution_count": 19,
      "outputs": [
        {
          "output_type": "stream",
          "name": "stdout",
          "text": [
            "Genes que aparecem em 1 grupo(s):\n",
            "['DSEL', 'FTCD', 'GSDMC', 'GCGR', 'NUS1P2', 'GABRP', 'GINS2', 'CSTL1', 'HMGB3P6', 'ALG1L', 'LINC02830']\n",
            "Número total: 11\n",
            "\n",
            "Genes que aparecem em 2 grupo(s):\n",
            "['ALDH3B1', 'ONECUT3', 'PCAT7', 'ESCO2']\n",
            "Número total: 4\n",
            "\n",
            "Genes que aparecem em 3 grupo(s):\n",
            "['MMP20', 'GKN2', 'H2AC14', 'PLAAT1', 'C7']\n",
            "Número total: 5\n",
            "\n",
            "Genes que aparecem em 4 grupo(s):\n",
            "['IMPDH1P8', 'MYOSLID', 'COL9A3']\n",
            "Número total: 3\n",
            "\n",
            "Genes que aparecem em 5 grupo(s):\n",
            "[]\n",
            "Número total: 0\n",
            "\n"
          ]
        }
      ]
    }
  ],
  "metadata": {
    "colab": {
      "provenance": [],
      "authorship_tag": "ABX9TyNyhYqF36UFUNuuOx+p/tzt",
      "include_colab_link": true
    },
    "kernelspec": {
      "display_name": "Python 3",
      "name": "python3"
    },
    "language_info": {
      "name": "python"
    }
  },
  "nbformat": 4,
  "nbformat_minor": 0
}